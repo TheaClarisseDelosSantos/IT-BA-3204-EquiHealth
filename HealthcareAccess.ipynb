{
 "cells": [
  {
   "cell_type": "markdown",
   "id": "ebeba1bd",
   "metadata": {},
   "source": [
    "This notebook contains four parts.\n",
    "\n",
    "<b>Part 1 - Importing Necessary Libraries and Dataset\n",
    "\n",
    "<b>Part 2 - Data Cleaning\n",
    "\n",
    "<b>Part 3 - Visualizations\n",
    "\n",
    "<b>Part 4 - Solutions/Recommendations\n",
    "\n",
    "<hr>\n",
    "    \n",
    "## Part 1 - Importing Necessary Libraries and Dataset\n",
    "    Importing libraries needed in the analysis"
   ]
  },
  {
   "cell_type": "code",
   "execution_count": 1,
   "id": "990d51e3",
   "metadata": {},
   "outputs": [],
   "source": [
    "import pandas as pd\n",
    "import matplotlib .pyplot as plt\n",
    "import numpy as np\n",
    "import seaborn as sns\n",
    "\n",
    "%matplotlib inline"
   ]
  },
  {
   "cell_type": "code",
   "execution_count": null,
   "id": "92ed4d23",
   "metadata": {},
   "outputs": [],
   "source": []
  }
 ],
 "metadata": {
  "kernelspec": {
   "display_name": "Python 3 (ipykernel)",
   "language": "python",
   "name": "python3"
  },
  "language_info": {
   "codemirror_mode": {
    "name": "ipython",
    "version": 3
   },
   "file_extension": ".py",
   "mimetype": "text/x-python",
   "name": "python",
   "nbconvert_exporter": "python",
   "pygments_lexer": "ipython3",
   "version": "3.9.13"
  }
 },
 "nbformat": 4,
 "nbformat_minor": 5
}
